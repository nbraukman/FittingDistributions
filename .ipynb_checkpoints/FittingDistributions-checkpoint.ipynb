{
 "cells": [
  {
   "cell_type": "code",
   "execution_count": 1,
   "id": "accomplished-insurance",
   "metadata": {},
   "outputs": [],
   "source": [
    "from coffea import hist, util\n",
    "\n",
    "import coffea.processor as processor\n",
    "from coffea.nanoevents import NanoEventsFactory, NanoAODSchema\n",
    "import awkward as ak\n",
    "import numpy as np\n",
    "import uproot\n",
    "\n",
    "from pprint import pprint\n",
    "\n",
    "import matplotlib.pyplot as plt"
   ]
  },
  {
   "cell_type": "markdown",
   "id": "proud-wilderness",
   "metadata": {},
   "source": [
    "## Z boson selector"
   ]
  },
  {
   "cell_type": "code",
   "execution_count": 2,
   "id": "sublime-yukon",
   "metadata": {},
   "outputs": [],
   "source": [
    "class Zselector(processor.ProcessorABC):\n",
    "    def __init__(self):\n",
    "        ### This function is where the histograms are defined and any other initialization happens\n",
    "        \n",
    "        ### Muon pt\n",
    "        #Declare an axis for the dataset\n",
    "        dataset_axis = hist.Cat(\"dataset\",\"Dataset\")\n",
    "        \n",
    "        #Declare an axis for the muon pt\n",
    "        pt_axis = hist.Bin(\"pt\",\"$p_T$ [Gev]\", 40, 0, 200)\n",
    "        eta_axis = hist.Bin(\"eta\",\"$\\eta$\", 50, 0, 2.5)\n",
    "        phi_axis = hist.Bin(\"phi\",\"$\\phi$\", 50, 0, 3.5)\n",
    "        mass_axis = hist.Bin(\"mass\",\"Mass [GeV]\", 200, 50, 150)\n",
    "        r_axis = hist.Bin(\"r\",r\"$\\Delta R$\", 50, 0, 4)\n",
    "        count_axis = hist.Bin(\"count\",\"Count\", 5, 0, 5)\n",
    "\n",
    "        \n",
    "        #Define the accumulator object, a dictionary storing all of the histograms and counters \n",
    "        #that we will fill later in the process function\n",
    "        self._accumulator = processor.dict_accumulator({\n",
    "            'leading_muon_pt': hist.Hist(\"Counts\", dataset_axis, pt_axis),\n",
    "            \n",
    "            'muon_total_mass': hist.Hist(\"Counts\", dataset_axis, mass_axis),\n",
    "            \n",
    "            'muon_eta_difference': hist.Hist(\"Counts\", dataset_axis, eta_axis),\n",
    "            'muon_phi_difference': hist.Hist(\"Counts\", dataset_axis, phi_axis),\n",
    "            'muon_R_difference': hist.Hist(\"Counts\", dataset_axis, r_axis),\n",
    "            \n",
    "            'muon_number': hist.Hist(\"Counts\", dataset_axis, count_axis)\n",
    "            \n",
    "        }\n",
    "        )\n",
    "\n",
    "        \n",
    "        \n",
    "    @property\n",
    "    def accumulator(self):\n",
    "        return self._accumulator\n",
    "\n",
    "    def process(self, events):\n",
    "        ### The process function is where most of the work happens. As we'll see below, this is\n",
    "        ### where the main analysis work happens (object cuts, event selections, filling histograms). \n",
    "        \n",
    "        ## This gets us the accumulator dictionary we defined in init\n",
    "        output = self.accumulator.identity()\n",
    "\n",
    "        ## To access variables from the ntuples, use the \"events\" object\n",
    "        ## The dataset name is part of events.metadata\n",
    "        dataset = events.metadata['dataset']\n",
    "        \n",
    "        \n",
    "        # ----------------------------------------------------------------------------\n",
    "        \n",
    "        muons = events.Muon\n",
    "        \n",
    "        # Select tight muons\n",
    "        muonSelectTight = ((muons.pt>30) &\n",
    "                           (abs(muons.eta)<2.4) &\n",
    "                           (muons.tightId) &\n",
    "                           (muons.pfRelIso04_all < 0.15)\n",
    "                          )\n",
    "        tightMuons = muons[muonSelectTight]\n",
    "        \n",
    "        # Select exactly two muons\n",
    "        muonSelectTwo = (ak.num(tightMuons)==2)\n",
    "        twoMuons = tightMuons[muonSelectTwo]\n",
    "        \n",
    "        \n",
    "        # select events with exactly two oppositely charged muons\n",
    "        eventSelection = ((twoMuons.charge[:,0] + twoMuons.charge[:,1])==0)\n",
    "        \n",
    "        \n",
    "        # Fill the muon_pt histogram using the tightMuons in events that pass our selection \n",
    "        # Note that ak.flatten() is required when filling a histogram to remove the jaggedness\n",
    "        output['leading_muon_pt'].fill(dataset=dataset,\n",
    "                                       pt=ak.flatten(twoMuons[eventSelection][:,:1].pt))\n",
    "        \n",
    "        \n",
    "        # add the muons before getting the mass\n",
    "        output['muon_total_mass'].fill(dataset=dataset,\n",
    "                                      mass=ak.flatten(twoMuons[eventSelection][:,:1] + twoMuons[eventSelection][:,1:]).mass )\n",
    "        \n",
    "        output['muon_eta_difference'].fill(dataset=dataset,\n",
    "                                           eta=ak.flatten(abs(twoMuons[eventSelection][:,:1].eta - twoMuons[eventSelection][:,1:].eta)) )\n",
    "        output['muon_phi_difference'].fill(dataset=dataset,\n",
    "                                      phi=ak.flatten(abs(twoMuons[eventSelection][:,:1].delta_phi(twoMuons[eventSelection][:,1:]))) )\n",
    "        output['muon_R_difference'].fill(dataset=dataset,\n",
    "                                      r=ak.flatten(twoMuons[eventSelection][:,:1].delta_r(twoMuons[eventSelection][:,1:])) )\n",
    "        \n",
    "        output['muon_number'].fill(dataset=dataset,\n",
    "                                  count=(ak.num(tightMuons)))\n",
    "        \n",
    "        # ----------------------------------------------------------------------------\n",
    "        \n",
    "        \n",
    "        return output\n",
    "\n",
    "    def postprocess(self, accumulator):\n",
    "        return accumulator"
   ]
  },
  {
   "cell_type": "code",
   "execution_count": 3,
   "id": "advised-humanitarian",
   "metadata": {},
   "outputs": [],
   "source": [
    "#Define files to run over\n",
    "skimDir=\"/udrive/staff/dnoonan/Skims\"\n",
    "\n",
    "fileset = {\"TTGamma\":[f\"{skimDir}/TTGamma_SingleLept_2016_skim.root\"],\n",
    "           \"TTbar\":[f\"{skimDir}/TTbarPowheg_Semilept_2016_skim_1of10.root\",\n",
    "                    f\"{skimDir}/TTbarPowheg_Semilept_2016_skim_2of10.root\"],\n",
    "           \"WGamma\":[f\"{skimDir}/WGamma_2016_skim.root\"],\n",
    "           \"Z+jets\":[f'{skimDir}/DYjetsM50_ext2_2016_skim_1of10.root'],\n",
    "           \"W+3jets\":[f\"{skimDir}/W3jets_2016_skim.root\"],\n",
    "           \"W+4jets\":[f\"{skimDir}/W4jets_2016_skim.root\"],\n",
    "          }\n",
    "\n",
    "filesetData = {\"DataMu\":[f\"{skimDir}/Data_SingleMu_b_2016_skim_1of10.root\"],\n",
    "              }\n"
   ]
  },
  {
   "cell_type": "code",
   "execution_count": 4,
   "id": "welsh-cedar",
   "metadata": {},
   "outputs": [
    {
     "data": {
      "application/vnd.jupyter.widget-view+json": {
       "model_id": "3df8d2739b41433bb9518016781e114d",
       "version_major": 2,
       "version_minor": 0
      },
      "text/plain": [
       "Preprocessing:   0%|          | 0/7 [00:00<?, ?file/s]"
      ]
     },
     "metadata": {},
     "output_type": "display_data"
    },
    {
     "data": {
      "application/vnd.jupyter.widget-view+json": {
       "model_id": "99e9693a14304e3da569019b9b4279dd",
       "version_major": 2,
       "version_minor": 0
      },
      "text/plain": [
       "Processing:   0%|          | 0/23 [00:00<?, ?chunk/s]"
      ]
     },
     "metadata": {},
     "output_type": "display_data"
    }
   ],
   "source": [
    "np.warnings.filterwarnings('ignore')\n",
    "\n",
    "#the NanoAODSchema needs to be adjusted, to remove cross references to FSRPhotons\n",
    "class SkimmedSchema(NanoAODSchema):\n",
    "    def __init__(self, base_form):\n",
    "        base_form[\"contents\"].pop(\"Muon_fsrPhotonIdx\", None)\n",
    "        super().__init__(base_form)\n",
    "        \n",
    "#Run Coffea code using uproot\n",
    "outputMC_Z = processor.run_uproot_job(\n",
    "    fileset,  #dictionary of datasets to run on, defined earlier in this cell\n",
    "    \"Events\", #Name of the TTree you will be opening\n",
    "    Zselector(),  #Coffea processor you defined\n",
    "    processor.futures_executor,\n",
    "    executor_args={\"schema\": SkimmedSchema,'workers': 4},  ## workers = 2, parallelize jobs, running 2 at once\n",
    "    chunksize=1000000, #in each chunk, use 1 million events\n",
    "#     maxchunks=1, #limit to using only 3 chunks for each dataset (useful for testing purposes)\n",
    ")\n"
   ]
  },
  {
   "cell_type": "code",
   "execution_count": 5,
   "id": "threaded-precipitation",
   "metadata": {},
   "outputs": [
    {
     "data": {
      "application/vnd.jupyter.widget-view+json": {
       "model_id": "b4aa67997f084d959d558e6eaf95d9e8",
       "version_major": 2,
       "version_minor": 0
      },
      "text/plain": [
       "Preprocessing:   0%|          | 0/1 [00:00<?, ?file/s]"
      ]
     },
     "metadata": {},
     "output_type": "display_data"
    },
    {
     "data": {
      "application/vnd.jupyter.widget-view+json": {
       "model_id": "2a115f8cee1546c58a70bdb577ff2db7",
       "version_major": 2,
       "version_minor": 0
      },
      "text/plain": [
       "Processing:   0%|          | 0/6 [00:00<?, ?chunk/s]"
      ]
     },
     "metadata": {},
     "output_type": "display_data"
    }
   ],
   "source": [
    "outputData_Z = processor.run_uproot_job(\n",
    "    filesetData, \n",
    "    \"Events\", \n",
    "    Zselector(), \n",
    "    processor.futures_executor,\n",
    "    executor_args={\"schema\": SkimmedSchema,'workers': 4},  \n",
    "    chunksize=1000000, \n",
    ")\n",
    "\n",
    "data_err_opts = {\n",
    "    'linestyle':'none',\n",
    "    'marker': '.',\n",
    "    'markersize': 10.,\n",
    "    'color':'k',\n",
    "    'elinewidth': 1,\n",
    "}\n"
   ]
  },
  {
   "cell_type": "code",
   "execution_count": 6,
   "id": "historic-potter",
   "metadata": {},
   "outputs": [
    {
     "name": "stdout",
     "output_type": "stream",
     "text": [
      "{'TTGamma': 11005200.0,\n",
      " 'TTbar': 17673700.0,\n",
      " 'W+3jets': 19798117.0,\n",
      " 'W+4jets': 9116657.0,\n",
      " 'WGamma': 6103817.0,\n",
      " 'Z+jets': 8920292.0}\n"
     ]
    }
   ],
   "source": [
    "nEvents = {}\n",
    "for d in fileset:\n",
    "    if not d in nEvents:\n",
    "        nEvents[d] = 0\n",
    "    for fName in fileset[d]:\n",
    "        with uproot.open(fName)['hEvents'] as hEvents:\n",
    "            nEvents[d] += hEvents.values()[0] + hEvents.values()[2]\n",
    "pprint(nEvents)\n"
   ]
  },
  {
   "cell_type": "code",
   "execution_count": 7,
   "id": "liberal-gospel",
   "metadata": {},
   "outputs": [
    {
     "name": "stdout",
     "output_type": "stream",
     "text": [
      "{'TTGamma': 0.0003070412168792934,\n",
      " 'TTbar': 0.009677812229470908,\n",
      " 'W+3jets': 0.02649822000748859,\n",
      " 'W+4jets': 0.02926653048370691,\n",
      " 'WGamma': 0.03605121188921621,\n",
      " 'Z+jets': 0.3065761748606436}\n"
     ]
    }
   ],
   "source": [
    "cx = {'TTGamma':7.509,\n",
    "     'TTbar': 380.095,\n",
    "     'WGamma':489,\n",
    "     'Z+jets':6077.22,\n",
    "     'W+3jets':1165.8108,\n",
    "     'W+4jets':592.9176}\n",
    "lumi_weight = {}\n",
    "for keyName in fileset:\n",
    "    lumi_weight[keyName] = (cx[keyName]*450.)/nEvents[keyName] # Luminosity 450 instead of 578\n",
    "    \n",
    "pprint(lumi_weight)\n"
   ]
  },
  {
   "cell_type": "code",
   "execution_count": 8,
   "id": "seasonal-ghana",
   "metadata": {},
   "outputs": [],
   "source": [
    "#Scale histograms\n",
    "for key, obj in outputMC_Z.items():\n",
    "    if isinstance(obj, hist.Hist):\n",
    "        obj.scale(lumi_weight, axis=\"dataset\")\n"
   ]
  },
  {
   "cell_type": "markdown",
   "id": "spatial-lobby",
   "metadata": {},
   "source": [
    "### Leading muon $p_T$"
   ]
  },
  {
   "cell_type": "code",
   "execution_count": 9,
   "id": "natural-rough",
   "metadata": {},
   "outputs": [
    {
     "data": {
      "image/png": "[encoded data removed]",
      "text/plain": [
       "<Figure size 432x288 with 1 Axes>"
      ]
     },
     "metadata": {
      "needs_background": "light"
     },
     "output_type": "display_data"
    }
   ],
   "source": [
    "hist.plot1d(outputData_Z['leading_muon_pt'],overlay='dataset',error_opts=data_err_opts,overflow='over')\n",
    "hist.plot1d(outputMC_Z['leading_muon_pt'],overlay='dataset',stack=True,overflow='over')\n",
    "plt.title('Leading Muon $p_T$')\n",
    "plt.ylim(0.1,80000)\n",
    "plt.show()\n"
   ]
  },
  {
   "cell_type": "markdown",
   "id": "packed-bronze",
   "metadata": {},
   "source": [
    "### Z boson mass by addition of muons"
   ]
  },
  {
   "cell_type": "code",
   "execution_count": 10,
   "id": "dietary-leonard",
   "metadata": {},
   "outputs": [
    {
     "data": {
      "image/png": "[encoded data removed]",
      "text/plain": [
       "<Figure size 432x288 with 1 Axes>"
      ]
     },
     "metadata": {
      "needs_background": "light"
     },
     "output_type": "display_data"
    }
   ],
   "source": [
    "hist.plot1d(outputData_Z['muon_total_mass'],overlay='dataset',error_opts=data_err_opts,overflow='over')\n",
    "hist.plot1d(outputMC_Z['muon_total_mass'],overlay='dataset',stack=True,overflow='over')\n",
    "plt.title('Mass of sum of muons (Z boson mass)')\n",
    "plt.ylim(0,20000)\n",
    "plt.show()\n"
   ]
  },
  {
   "cell_type": "markdown",
   "id": "shaped-survivor",
   "metadata": {},
   "source": [
    "### Difference in $\\eta$"
   ]
  },
  {
   "cell_type": "code",
   "execution_count": 11,
   "id": "measured-space",
   "metadata": {},
   "outputs": [
    {
     "data": {
      "image/png": "[encoded data removed]",
      "text/plain": [
       "<Figure size 432x288 with 1 Axes>"
      ]
     },
     "metadata": {
      "needs_background": "light"
     },
     "output_type": "display_data"
    }
   ],
   "source": [
    "hist.plot1d(outputData_Z['muon_eta_difference'],overlay='dataset',error_opts=data_err_opts,overflow='over')\n",
    "hist.plot1d(outputMC_Z['muon_eta_difference'],overlay='dataset',stack=True,overflow='over')\n",
    "plt.title('Difference between the muons in $\\eta$')\n",
    "plt.ylim(0,11000)\n",
    "plt.show()\n"
   ]
  },
  {
   "cell_type": "markdown",
   "id": "informational-excess",
   "metadata": {},
   "source": [
    "### Difference in $\\phi$"
   ]
  },
  {
   "cell_type": "code",
   "execution_count": 12,
   "id": "located-comparative",
   "metadata": {},
   "outputs": [
    {
     "data": {
      "image/png": "[encoded data removed]",
      "text/plain": [
       "<Figure size 432x288 with 1 Axes>"
      ]
     },
     "metadata": {
      "needs_background": "light"
     },
     "output_type": "display_data"
    }
   ],
   "source": [
    "hist.plot1d(outputData_Z['muon_phi_difference'],overlay='dataset',error_opts=data_err_opts,overflow='over')\n",
    "hist.plot1d(outputMC_Z['muon_phi_difference'],overlay='dataset',stack=True,overflow='over')\n",
    "plt.title('Difference between the muons in $\\phi$')\n",
    "plt.ylim(0,60000)\n",
    "plt.show()\n"
   ]
  },
  {
   "cell_type": "markdown",
   "id": "metropolitan-choir",
   "metadata": {},
   "source": [
    "### Difference in R: $\\Delta R = \\sqrt{\\Delta\\eta^2 + \\Delta\\phi^2}$"
   ]
  },
  {
   "cell_type": "code",
   "execution_count": 13,
   "id": "controversial-packing",
   "metadata": {},
   "outputs": [
    {
     "data": {
      "image/png": "[encoded data removed]",
      "text/plain": [
       "<Figure size 432x288 with 1 Axes>"
      ]
     },
     "metadata": {
      "needs_background": "light"
     },
     "output_type": "display_data"
    }
   ],
   "source": [
    "hist.plot1d(outputData_Z['muon_R_difference'],overlay='dataset',error_opts=data_err_opts,overflow='over')\n",
    "hist.plot1d(outputMC_Z['muon_R_difference'],overlay='dataset',stack=True,overflow='over')\n",
    "plt.title('$\\Delta R$ between muons')\n",
    "plt.ylim(0,45000)\n",
    "plt.show()\n"
   ]
  },
  {
   "cell_type": "markdown",
   "id": "toxic-atlantic",
   "metadata": {},
   "source": [
    "# Fitting distributions to the histograms"
   ]
  },
  {
   "cell_type": "code",
   "execution_count": 14,
   "id": "english-ghana",
   "metadata": {},
   "outputs": [],
   "source": [
    "from scipy.optimize import curve_fit"
   ]
  },
  {
   "cell_type": "markdown",
   "id": "instrumental-temperature",
   "metadata": {},
   "source": [
    "Try fitting the Z boson mass histogram to a Gaussian distribution using `curve_fit` from `scipy`: __[curve_fit documentation](https://docs.scipy.org/doc/scipy/reference/generated/scipy.optimize.curve_fit.html)__\n",
    "\n",
    "Gaussian distribution function: $f(x; A, \\mu, \\sigma) = \\frac{A}{\\sigma\\sqrt{2\\pi}}e^{\\left[ -(x-\\mu)^2/2\\sigma^2 \\right]}$"
   ]
  },
  {
   "cell_type": "code",
   "execution_count": 15,
   "id": "precious-cycling",
   "metadata": {},
   "outputs": [],
   "source": [
    "# Define the model function\n",
    "def gaussian(x, amp, mu, sigma): # variable x; parameters amplitude, mean, sigma\n",
    "    return (amp/(sigma*np.sqrt(2*np.pi)))*np.exp((-1/2)*(((x - mu)/sigma)**2))"
   ]
  },
  {
   "cell_type": "code",
   "execution_count": 16,
   "id": "whole-contribution",
   "metadata": {},
   "outputs": [],
   "source": [
    "# Array for x values == 'mass_axis' binning defined inside the processor.\n",
    "m_x = np.linspace(50,150,200)\n",
    "# Array for y values == counts for each bin of the histogram.\n",
    "m = outputMC_Z['muon_total_mass'].sum('dataset').values()[()]\n",
    "\n",
    "\n",
    "###\n",
    "# Call curve_fit using the model function, x vals, y vals, p0 = inital guesses for parameters\n",
    "# Returns: paramater array, covariance matrix of parameters\n",
    "m_param, m_cov = curve_fit(gaussian, m_x, m, p0=(1,90,1))"
   ]
  },
  {
   "cell_type": "markdown",
   "id": "amended-mount",
   "metadata": {},
   "source": [
    "Plot the histogram & gaussian fit together:"
   ]
  },
  {
   "cell_type": "code",
   "execution_count": 17,
   "id": "dried-crest",
   "metadata": {},
   "outputs": [
    {
     "data": {
      "image/png": "[encoded data removed]",
      "text/plain": [
       "<Figure size 432x288 with 1 Axes>"
      ]
     },
     "metadata": {
      "needs_background": "light"
     },
     "output_type": "display_data"
    }
   ],
   "source": [
    "hist.plot1d(outputMC_Z['muon_total_mass'],overlay='dataset',stack=True,overflow='over')\n",
    "plt.plot(m_x, gaussian(m_x, *m_param),color=\"tab:orange\",linewidth=2)\n",
    "plt.title('Z boson mass, gaussian fit')\n",
    "plt.show()"
   ]
  },
  {
   "cell_type": "markdown",
   "id": "worldwide-insight",
   "metadata": {},
   "source": [
    "The `curve_fit` function returns:\n",
    "1. `m_param`, an array of values for the parameters defined in the model function; in our case, `amp`, `mu`, and`sigma`\n",
    "2. `m_cov`, the covariance matrix for the parameters. "
   ]
  },
  {
   "cell_type": "code",
   "execution_count": 18,
   "id": "involved-mobile",
   "metadata": {},
   "outputs": [
    {
     "data": {
      "text/plain": [
       "array([9.61490946e+04, 9.09596631e+01, 2.22800383e+00])"
      ]
     },
     "execution_count": 18,
     "metadata": {},
     "output_type": "execute_result"
    }
   ],
   "source": [
    "m_param # array of parameter values: amp, mu, sigma"
   ]
  },
  {
   "cell_type": "code",
   "execution_count": 19,
   "id": "brief-spelling",
   "metadata": {},
   "outputs": [
    {
     "name": "stdout",
     "output_type": "stream",
     "text": [
      "Amplitude:  96149.09455931812\n",
      "Mean:       90.95966313006912\n",
      "Std dev:    2.2280038302302123\n"
     ]
    }
   ],
   "source": [
    "print('Amplitude: ', m_param[0])\n",
    "print('Mean:      ', m_param[1]) # Z boson mass ~ 90 GeV\n",
    "print('Std dev:   ', m_param[2])"
   ]
  },
  {
   "cell_type": "code",
   "execution_count": 20,
   "id": "interior-parking",
   "metadata": {},
   "outputs": [
    {
     "data": {
      "text/plain": [
       "array([[ 1.30300857e+06,  8.66429925e-08,  2.01290714e+01],\n",
       "       [ 8.66429925e-08,  9.32870692e-04, -2.81311310e-10],\n",
       "       [ 2.01290714e+01, -2.81311310e-10,  9.32870704e-04]])"
      ]
     },
     "execution_count": 20,
     "metadata": {},
     "output_type": "execute_result"
    }
   ],
   "source": [
    "m_cov # covariance matrix"
   ]
  },
  {
   "cell_type": "markdown",
   "id": "optical-measure",
   "metadata": {},
   "source": [
    "The diagonal entries of the covariance matrix are the squares of the uncertainties in each parameter:"
   ]
  },
  {
   "cell_type": "code",
   "execution_count": 21,
   "id": "finished-commercial",
   "metadata": {},
   "outputs": [
    {
     "data": {
      "text/plain": [
       "array([1.14149401e+03, 3.05429319e-02, 3.05429321e-02])"
      ]
     },
     "execution_count": 21,
     "metadata": {},
     "output_type": "execute_result"
    }
   ],
   "source": [
    "np.sqrt(np.diag(m_cov)) # uncertainty in amp, mu, sigma"
   ]
  },
  {
   "cell_type": "code",
   "execution_count": 22,
   "id": "democratic-tract",
   "metadata": {},
   "outputs": [],
   "source": [
    "#####\n",
    "# To Do:\n",
    "# chi^2 to show that this is a bad fit\n",
    "####"
   ]
  },
  {
   "cell_type": "markdown",
   "id": "forty-waste",
   "metadata": {},
   "source": [
    "Instead of a Gaussian distribution, we can try a Lorentzian distribution:\n",
    "\n",
    "$f(x; A, \\mu, \\sigma) = \\frac{A}{\\pi} \\left[ \\frac{\\sigma}{(x-\\mu)^2 + \\sigma^2} \\right]$"
   ]
  },
  {
   "cell_type": "code",
   "execution_count": 23,
   "id": "variable-chemistry",
   "metadata": {},
   "outputs": [],
   "source": [
    "# Define the model function\n",
    "def lorentzian (x, amp, mu, sig):\n",
    "    return ( (amp/np.pi)*(sig / ( (x - mu)**2 + sig**2)) )"
   ]
  },
  {
   "cell_type": "code",
   "execution_count": 24,
   "id": "operating-grammar",
   "metadata": {},
   "outputs": [],
   "source": [
    "# Call curve_fit using the lorentzian function\n",
    "mL_param, mL_cov = curve_fit(lorentzian, m_x, m, p0=(1,90,1))"
   ]
  },
  {
   "cell_type": "code",
   "execution_count": 25,
   "id": "aquatic-edwards",
   "metadata": {},
   "outputs": [
    {
     "data": {
      "image/png": "[encoded data removed]",
      "text/plain": [
       "<Figure size 432x288 with 1 Axes>"
      ]
     },
     "metadata": {
      "needs_background": "light"
     },
     "output_type": "display_data"
    }
   ],
   "source": [
    "# Plot the fit with the histogram\n",
    "hist.plot1d(outputMC_Z['muon_total_mass'],overlay='dataset',stack=True,overflow='over')\n",
    "plt.plot(m_x, lorentzian(m_x, *mL_param),color=\"tab:orange\",linewidth=2)\n",
    "plt.title('Z boson mass, lorentzian fit')\n",
    "plt.show()"
   ]
  },
  {
   "cell_type": "code",
   "execution_count": 26,
   "id": "electric-satellite",
   "metadata": {},
   "outputs": [
    {
     "name": "stdout",
     "output_type": "stream",
     "text": [
      "Amplitude:  124507.3962162597      Error:  1141.494008961788\n",
      "Mean:       90.97738012698794      Error:  0.030542931947077464\n",
      "Std dev:    2.0734283481046507     Error:  0.03054293214210374\n"
     ]
    }
   ],
   "source": [
    "# Get statistics\n",
    "\n",
    "mL_param_err = np.sqrt(np.diag(m_cov))\n",
    "\n",
    "print('Amplitude: ', mL_param[0], '     Error: ', mL_param_err[0])\n",
    "print('Mean:      ', mL_param[1], '     Error: ', mL_param_err[1])\n",
    "print('Std dev:   ', mL_param[2], '    Error: ', mL_param_err[2])"
   ]
  },
  {
   "cell_type": "code",
   "execution_count": 27,
   "id": "quick-elements",
   "metadata": {},
   "outputs": [],
   "source": [
    "### \n",
    "# To Do:\n",
    "# chi^2 again, to compare gauss vs. lorentz\n",
    "# Plot residual (fit - data)\n",
    "# other histograms (eta, phi, R)\n",
    "###"
   ]
  },
  {
   "cell_type": "markdown",
   "id": "changed-pressure",
   "metadata": {},
   "source": [
    "## Chi^2"
   ]
  },
  {
   "cell_type": "code",
   "execution_count": 38,
   "id": "chinese-interest",
   "metadata": {},
   "outputs": [
    {
     "name": "stdout",
     "output_type": "stream",
     "text": [
      "chi^2:  44496.64745373336\n"
     ]
    }
   ],
   "source": [
    "# MC data points & errors^2:\n",
    "m_dat, m_errSquared = outputMC_Z['muon_total_mass'].sum('dataset').values(sumw2=True)[()]\n",
    "\n",
    "\n",
    "\n",
    "# Lorentzian fitted points:\n",
    "m_Lfit = lorentzian(m_x, *mL_param)\n",
    "\n",
    "# chi^2 = sum over all data points of (data - fit)^2 / (error^2)\n",
    "m_chiSquared = sum( (m_Lfit - m_dat)**2 / m_errSquared )\n",
    "print('chi^2: ', m_chiSquared)\n",
    "\n",
    "# reduced chi^2"
   ]
  },
  {
   "cell_type": "code",
   "execution_count": 39,
   "id": "congressional-registrar",
   "metadata": {},
   "outputs": [
    {
     "name": "stdout",
     "output_type": "stream",
     "text": [
      "chi^2:  122767.6210650487\n"
     ]
    }
   ],
   "source": [
    "##### compare to the Gaussian fitted points #####\n",
    "m_Gfit = gaussian(m_x, *m_param)\n",
    "m_GchiSquared = sum( (m_Gfit - m_dat)**2 / m_errSquared )\n",
    "print('chi^2: ', m_GchiSquared)"
   ]
  },
  {
   "cell_type": "code",
   "execution_count": null,
   "id": "living-monte",
   "metadata": {},
   "outputs": [],
   "source": []
  },
  {
   "cell_type": "code",
   "execution_count": null,
   "id": "featured-statement",
   "metadata": {},
   "outputs": [],
   "source": []
  },
  {
   "cell_type": "code",
   "execution_count": null,
   "id": "considerable-shoot",
   "metadata": {},
   "outputs": [],
   "source": []
  },
  {
   "cell_type": "code",
   "execution_count": null,
   "id": "cleared-support",
   "metadata": {},
   "outputs": [],
   "source": []
  },
  {
   "cell_type": "code",
   "execution_count": null,
   "id": "similar-entrepreneur",
   "metadata": {},
   "outputs": [],
   "source": []
  }
 ],
 "metadata": {
  "kernelspec": {
   "display_name": "Python 3",
   "language": "python",
   "name": "python3"
  },
  "language_info": {
   "codemirror_mode": {
    "name": "ipython",
    "version": 3
   },
   "file_extension": ".py",
   "mimetype": "text/x-python",
   "name": "python",
   "nbconvert_exporter": "python",
   "pygments_lexer": "ipython3",
   "version": "3.8.3"
  }
 },
 "nbformat": 4,
 "nbformat_minor": 5
}
